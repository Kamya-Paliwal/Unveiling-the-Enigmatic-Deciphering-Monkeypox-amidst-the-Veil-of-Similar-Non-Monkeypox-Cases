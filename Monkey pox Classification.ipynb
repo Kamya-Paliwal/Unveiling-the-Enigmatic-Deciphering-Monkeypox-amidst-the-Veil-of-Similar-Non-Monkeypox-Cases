{
 "cells": [
  {
   "cell_type": "code",
   "execution_count": 2,
   "id": "65728eb0",
   "metadata": {},
   "outputs": [],
   "source": [
    "import numpy as np\n",
    "import matplotlib.pyplot as plt\n",
    "from tensorflow.keras.preprocessing.image import ImageDataGenerator"
   ]
  },
  {
   "cell_type": "code",
   "execution_count": 3,
   "id": "92817dc6",
   "metadata": {},
   "outputs": [
    {
     "name": "stdout",
     "output_type": "stream",
     "text": [
      "Found 3192 images belonging to 2 classes.\n",
      "Found 138 images belonging to 2 classes.\n",
      "Found 90 images belonging to 2 classes.\n"
     ]
    }
   ],
   "source": [
    "train_gen = ImageDataGenerator(rescale=1./255)\n",
    "valid_gen = ImageDataGenerator(rescale=1./255,validation_split=0.4)\n",
    "target_img_shape=(64,64)\n",
    "# Loading Data\n",
    "train_data = train_gen.flow_from_directory(\"Augmented Images/Augmented Images\",target_size=(64,64),shuffle=True,class_mode='binary')\n",
    "valid_data = valid_gen.flow_from_directory('Original Images/Original Images',target_size=(64,64),shuffle=True,subset='training',class_mode='binary')\n",
    "test_data = valid_gen.flow_from_directory('Original Images/Original Images',target_size=(64,64),shuffle=True,subset='validation',class_mode='binary')"
   ]
  },
  {
   "cell_type": "code",
   "execution_count": 4,
   "id": "6c63d439",
   "metadata": {},
   "outputs": [
    {
     "name": "stdout",
     "output_type": "stream",
     "text": [
      "Training\n",
      "[0 1]\n",
      "[1428 1764]\n"
     ]
    }
   ],
   "source": [
    "print('Training')\n",
    "ids,counts=np.unique(train_data.classes,return_counts=True)\n",
    "print(ids)\n",
    "print(counts)"
   ]
  },
  {
   "cell_type": "code",
   "execution_count": 5,
   "id": "6c719889",
   "metadata": {},
   "outputs": [
    {
     "name": "stdout",
     "output_type": "stream",
     "text": [
      "Monkeypox_augmented=1428\n",
      "Others_augmented=1764\n"
     ]
    }
   ],
   "source": [
    "labels=(train_data.class_indices)\n",
    "labels=dict((v,k) for k,v in labels.items())\n",
    "labels\n",
    "\n",
    "for i in ids:\n",
    "    print('{:>6}={}'.format(labels[i],counts[i]))"
   ]
  },
  {
   "cell_type": "code",
   "execution_count": 6,
   "id": "aff8a1f9",
   "metadata": {},
   "outputs": [
    {
     "name": "stdout",
     "output_type": "stream",
     "text": [
      "Validation\n",
      "[0 1]\n",
      "[62 76]\n"
     ]
    }
   ],
   "source": [
    "print('Validation')\n",
    "ids,counts=np.unique(valid_data.classes,return_counts=True)\n",
    "print(ids)\n",
    "print(counts)"
   ]
  },
  {
   "cell_type": "code",
   "execution_count": 7,
   "id": "c2e18311",
   "metadata": {},
   "outputs": [
    {
     "name": "stdout",
     "output_type": "stream",
     "text": [
      "Monkey Pox=62\n",
      "Others=76\n"
     ]
    }
   ],
   "source": [
    "labels=(valid_data.class_indices)\n",
    "labels=dict((v,k) for k,v in labels.items())\n",
    "labels\n",
    "\n",
    "for i in ids:\n",
    "    print('{:>6}={}'.format(labels[i],counts[i]))"
   ]
  },
  {
   "cell_type": "code",
   "execution_count": 8,
   "id": "08c10ec1",
   "metadata": {},
   "outputs": [
    {
     "data": {
      "text/plain": [
       "(64, 64, 3)"
      ]
     },
     "execution_count": 8,
     "metadata": {},
     "output_type": "execute_result"
    }
   ],
   "source": [
    "train_data[0][0][0].shape # Access the first image in the first batch of the training data generator, and print its shape"
   ]
  },
  {
   "cell_type": "code",
   "execution_count": 9,
   "id": "630f7e6c",
   "metadata": {},
   "outputs": [
    {
     "name": "stdout",
     "output_type": "stream",
     "text": [
      "{'Monkeypox_augmented': 0, 'Others_augmented': 1}\n",
      "(32, 64, 64, 3)\n",
      "(32,)\n",
      "class 0.0\n"
     ]
    },
    {
     "data": {
      "image/png": "[encoded data removed]",
      "text/plain": [
       "<Figure size 432x288 with 1 Axes>"
      ]
     },
     "metadata": {
      "needs_background": "light"
     },
     "output_type": "display_data"
    }
   ],
   "source": [
    "print(train_data.class_indices)\n",
    "for image_batch, labels_batch in train_data:\n",
    "    print(image_batch.shape)\n",
    "    print(labels_batch.shape)\n",
    "    plt.imshow(image_batch[0])\n",
    "    print('class',labels_batch[0])\n",
    "    break"
   ]
  },
  {
   "cell_type": "code",
   "execution_count": 10,
   "id": "e69c45c4",
   "metadata": {},
   "outputs": [
    {
     "data": {
      "text/plain": [
       "(64, 64, 3)"
      ]
     },
     "execution_count": 10,
     "metadata": {},
     "output_type": "execute_result"
    }
   ],
   "source": [
    "# Define the input shape of the model as a tuple of integers\n",
    "in_shape=(target_img_shape[0],target_img_shape[1],3)\n",
    "in_shape"
   ]
  },
  {
   "cell_type": "code",
   "execution_count": 11,
   "id": "dc6e15e5",
   "metadata": {},
   "outputs": [],
   "source": [
    "from tensorflow.keras import Sequential\n",
    "from tensorflow.keras.layers import (Dense,Conv2D,AveragePooling2D,Flatten,Dropout, MaxPool2D)\n",
    "\n",
    "model = Sequential()\n",
    "model.add(Conv2D(32,(3,3), activation='relu', input_shape=in_shape))\n",
    "model.add(MaxPool2D((2,2)))\n",
    "\n",
    "model.add(Conv2D(64,(3,3), activation='relu'))\n",
    "model.add(MaxPool2D((2,2)))\n",
    "\n",
    "model.add(Conv2D(128,(3,3), activation='relu'))          \n",
    "model.add(MaxPool2D((2,2)))\n",
    "model.add(Flatten())\n",
    "\n",
    "model.add(Dense(128,activation='relu'))\n",
    "model.add(Dense(1,activation='sigmoid'))"
   ]
  },
  {
   "cell_type": "code",
   "execution_count": 12,
   "id": "11ba7af4",
   "metadata": {},
   "outputs": [
    {
     "name": "stdout",
     "output_type": "stream",
     "text": [
      "Model: \"sequential\"\n",
      "_________________________________________________________________\n",
      " Layer (type)                Output Shape              Param #   \n",
      "=================================================================\n",
      " conv2d (Conv2D)             (None, 62, 62, 32)        896       \n",
      "                                                                 \n",
      " max_pooling2d (MaxPooling2D  (None, 31, 31, 32)       0         \n",
      " )                                                               \n",
      "                                                                 \n",
      " conv2d_1 (Conv2D)           (None, 29, 29, 64)        18496     \n",
      "                                                                 \n",
      " max_pooling2d_1 (MaxPooling  (None, 14, 14, 64)       0         \n",
      " 2D)                                                             \n",
      "                                                                 \n",
      " conv2d_2 (Conv2D)           (None, 12, 12, 128)       73856     \n",
      "                                                                 \n",
      " max_pooling2d_2 (MaxPooling  (None, 6, 6, 128)        0         \n",
      " 2D)                                                             \n",
      "                                                                 \n",
      " flatten (Flatten)           (None, 4608)              0         \n",
      "                                                                 \n",
      " dense (Dense)               (None, 128)               589952    \n",
      "                                                                 \n",
      " dense_1 (Dense)             (None, 1)                 129       \n",
      "                                                                 \n",
      "=================================================================\n",
      "Total params: 683,329\n",
      "Trainable params: 683,329\n",
      "Non-trainable params: 0\n",
      "_________________________________________________________________\n"
     ]
    }
   ],
   "source": [
    "model.summary()"
   ]
  },
  {
   "cell_type": "code",
   "execution_count": 13,
   "id": "1813daeb",
   "metadata": {},
   "outputs": [
    {
     "data": {
      "image/png": "[encoded data removed]",
      "text/plain": [
       "<PIL.Image.Image image mode=RGBA size=705x367 at 0x1707F03C400>"
      ]
     },
     "execution_count": 13,
     "metadata": {},
     "output_type": "execute_result"
    }
   ],
   "source": [
    "import visualkeras as vk\n",
    "vk.layered_view(model,legend=True)"
   ]
  },
  {
   "cell_type": "code",
   "execution_count": 14,
   "id": "720a3d53",
   "metadata": {},
   "outputs": [],
   "source": [
    "model.compile(loss  = 'binary_crossentropy', optimizer  = 'adam', metrics = ['accuracy'])"
   ]
  },
  {
   "cell_type": "code",
   "execution_count": 15,
   "id": "9e006ef7",
   "metadata": {},
   "outputs": [
    {
     "name": "stdout",
     "output_type": "stream",
     "text": [
      "Epoch 1/20\n",
      "100/100 [==============================] - 99s 976ms/step - loss: 0.6549 - accuracy: 0.6153 - val_loss: 0.5629 - val_accuracy: 0.7101\n",
      "Epoch 2/20\n",
      "100/100 [==============================] - 12s 124ms/step - loss: 0.6003 - accuracy: 0.6823 - val_loss: 0.4927 - val_accuracy: 0.7826\n",
      "Epoch 3/20\n",
      "100/100 [==============================] - 10s 104ms/step - loss: 0.5476 - accuracy: 0.7237 - val_loss: 0.4279 - val_accuracy: 0.8116\n",
      "Epoch 4/20\n",
      "100/100 [==============================] - 11s 108ms/step - loss: 0.4846 - accuracy: 0.7732 - val_loss: 0.3616 - val_accuracy: 0.8551\n",
      "Epoch 5/20\n",
      "100/100 [==============================] - 11s 105ms/step - loss: 0.4301 - accuracy: 0.7998 - val_loss: 0.3361 - val_accuracy: 0.8551\n",
      "Epoch 6/20\n",
      "100/100 [==============================] - 11s 107ms/step - loss: 0.3627 - accuracy: 0.8371 - val_loss: 0.2529 - val_accuracy: 0.9130\n",
      "Epoch 7/20\n",
      "100/100 [==============================] - 11s 109ms/step - loss: 0.3199 - accuracy: 0.8578 - val_loss: 0.2299 - val_accuracy: 0.8913\n",
      "Epoch 8/20\n",
      "100/100 [==============================] - 11s 107ms/step - loss: 0.2876 - accuracy: 0.8778 - val_loss: 0.1437 - val_accuracy: 0.9493\n",
      "Epoch 9/20\n",
      "100/100 [==============================] - 11s 109ms/step - loss: 0.2433 - accuracy: 0.9004 - val_loss: 0.1181 - val_accuracy: 0.9493\n",
      "Epoch 10/20\n",
      "100/100 [==============================] - 11s 112ms/step - loss: 0.1933 - accuracy: 0.9207 - val_loss: 0.0918 - val_accuracy: 0.9565\n",
      "Epoch 11/20\n",
      "100/100 [==============================] - 11s 110ms/step - loss: 0.1577 - accuracy: 0.9395 - val_loss: 0.0502 - val_accuracy: 0.9928\n",
      "Epoch 12/20\n",
      "100/100 [==============================] - 11s 111ms/step - loss: 0.1239 - accuracy: 0.9571 - val_loss: 0.0257 - val_accuracy: 1.0000\n",
      "Epoch 13/20\n",
      "100/100 [==============================] - 11s 114ms/step - loss: 0.1159 - accuracy: 0.9630 - val_loss: 0.0500 - val_accuracy: 1.0000\n",
      "Epoch 14/20\n",
      "100/100 [==============================] - 11s 108ms/step - loss: 0.0939 - accuracy: 0.9680 - val_loss: 0.0343 - val_accuracy: 0.9928\n",
      "Epoch 15/20\n",
      "100/100 [==============================] - 11s 111ms/step - loss: 0.0686 - accuracy: 0.9759 - val_loss: 0.0124 - val_accuracy: 1.0000\n",
      "Epoch 16/20\n",
      "100/100 [==============================] - 11s 112ms/step - loss: 0.0580 - accuracy: 0.9787 - val_loss: 0.0067 - val_accuracy: 1.0000\n",
      "Epoch 17/20\n",
      "100/100 [==============================] - 11s 114ms/step - loss: 0.0606 - accuracy: 0.9790 - val_loss: 0.0175 - val_accuracy: 1.0000\n",
      "Epoch 18/20\n",
      "100/100 [==============================] - 12s 121ms/step - loss: 0.0474 - accuracy: 0.9875 - val_loss: 0.0105 - val_accuracy: 1.0000\n",
      "Epoch 19/20\n",
      "100/100 [==============================] - 12s 120ms/step - loss: 0.0647 - accuracy: 0.9762 - val_loss: 0.0043 - val_accuracy: 1.0000\n",
      "Epoch 20/20\n",
      "100/100 [==============================] - 12s 116ms/step - loss: 0.0296 - accuracy: 0.9909 - val_loss: 0.0035 - val_accuracy: 1.0000\n",
      "Time taken:5.20 minutes\n"
     ]
    }
   ],
   "source": [
    "import time\n",
    "start=time.time()\n",
    "\n",
    "history=model.fit(train_data,steps_per_epoch=len(train_data),\n",
    "                 validation_data=valid_data,\n",
    "                 epochs=20,verbose=1)\n",
    "end=time.time()\n",
    "print('Time taken:{:.2f} minutes'.format((end-start)/60))"
   ]
  },
  {
   "cell_type": "code",
   "execution_count": 16,
   "id": "9ebfcc6e",
   "metadata": {},
   "outputs": [
    {
     "data": {
      "image/png": "[encoded data removed]",
      "text/plain": [
       "<Figure size 720x252 with 2 Axes>"
      ]
     },
     "metadata": {
      "needs_background": "light"
     },
     "output_type": "display_data"
    }
   ],
   "source": [
    "plt.figure(figsize=(10,3.5))\n",
    "plt.subplot(1,2,1)\n",
    "plt.title('Loss')\n",
    "plt.plot(history.history['loss'],label='Training Loss')\n",
    "plt.plot(history.history['val_loss'],'m', lw=2, label= 'Validation loss')\n",
    "\n",
    "plt.legend()\n",
    "plt.subplot(1,2,2)\n",
    "plt.title('Accuracy')\n",
    "plt.plot(history.history['accuracy'],label='Training')\n",
    "plt.plot(history.history['val_accuracy'],'r' ,lw=2, label='Validation')\n",
    "plt.legend()\n",
    "plt.tight_layout()\n",
    "plt.show()"
   ]
  },
  {
   "cell_type": "code",
   "execution_count": 17,
   "id": "7bcee33a",
   "metadata": {},
   "outputs": [
    {
     "data": {
      "image/png": "[encoded data removed]",
      "text/plain": [
       "<Figure size 432x288 with 1 Axes>"
      ]
     },
     "metadata": {
      "needs_background": "light"
     },
     "output_type": "display_data"
    }
   ],
   "source": [
    "acc = history.history['accuracy']\n",
    "val_acc = history.history['val_accuracy']\n",
    "\n",
    "plt.plot(acc, 'b' , label = 'train acc')\n",
    "plt.plot(val_acc , 'orange' , label = 'val acc')\n",
    "\n",
    "plt.legend()\n",
    "plt.show()"
   ]
  },
  {
   "cell_type": "code",
   "execution_count": 26,
   "id": "c92efe74",
   "metadata": {},
   "outputs": [
    {
     "name": "stdout",
     "output_type": "stream",
     "text": [
      "Validation loss: 0.004\n",
      "Validation accuracy: 1.000\n"
     ]
    }
   ],
   "source": [
    "scores = model.evaluate(valid_data, steps=len(valid_data), verbose=0)\n",
    "validation_loss = scores[0]\n",
    "validation_accuracy = scores[1]\n",
    "\n",
    "print(\"Validation loss: {:.3f}\".format(validation_loss))\n",
    "print(\"Validation accuracy: {:.3f}\".format(validation_accuracy))\n"
   ]
  },
  {
   "cell_type": "code",
   "execution_count": 19,
   "id": "a8d5a940",
   "metadata": {},
   "outputs": [
    {
     "name": "stdout",
     "output_type": "stream",
     "text": [
      "Test loss: 0.0014474054332822561\n",
      "Test accuracy: 1.0\n"
     ]
    }
   ],
   "source": [
    "score = model.evaluate(test_data, verbose=0)\n",
    "print(\"Test loss:\", score[0])\n",
    "print(\"Test accuracy:\", score[1])"
   ]
  },
  {
   "cell_type": "code",
   "execution_count": 20,
   "id": "de6e47fc",
   "metadata": {},
   "outputs": [
    {
     "name": "stdout",
     "output_type": "stream",
     "text": [
      "3/3 [==============================] - 1s 90ms/step\n",
      "Confusion Matrix:\n",
      "[[14 26]\n",
      " [26 24]]\n"
     ]
    }
   ],
   "source": [
    "import numpy as np\n",
    "import matplotlib.pyplot as plt\n",
    "from sklearn.metrics import confusion_matrix\n",
    "\n",
    "# Assuming you have the test data and true labels\n",
    "# X_test: Test data (images)\n",
    "# y_true: True labels for the test data\n",
    "\n",
    "# Obtain the predicted labels from the model\n",
    "y_pred = model.predict(test_data)\n",
    "y_pred = np.round(y_pred).flatten()\n",
    "\n",
    "test_labels = test_data.classes\n",
    "\n",
    "# Compute the confusion matrix\n",
    "cm = confusion_matrix(test_labels, y_pred)\n",
    "\n",
    "# Print the confusion matrix\n",
    "print(\"Confusion Matrix:\")\n",
    "print(cm)\n"
   ]
  },
  {
   "cell_type": "code",
   "execution_count": 21,
   "id": "77868d6f",
   "metadata": {},
   "outputs": [
    {
     "name": "stdout",
     "output_type": "stream",
     "text": [
      "Accuracy: 0.4222222222222222\n",
      "Precision: 0.48\n",
      "Recall: 0.48\n",
      "F1 Score: 0.48\n"
     ]
    }
   ],
   "source": [
    "from sklearn.metrics import accuracy_score, precision_score, recall_score, f1_score\n",
    "\n",
    "# Assuming you have the confusion matrix stored in the variable cm\n",
    "\n",
    "# Flatten the confusion matrix values\n",
    "tn, fp, fn, tp = cm.ravel()\n",
    "\n",
    "# Calculate accuracy\n",
    "accuracy = accuracy_score(test_labels, y_pred)\n",
    "\n",
    "# Calculate precision\n",
    "precision = precision_score(test_labels, y_pred)\n",
    "\n",
    "# Calculate recall\n",
    "recall = recall_score(test_labels, y_pred)\n",
    "\n",
    "# Calculate F1 score\n",
    "f1 = f1_score(test_labels, y_pred)\n",
    "\n",
    "# Print the evaluation metrics\n",
    "print(\"Accuracy:\", accuracy)\n",
    "print(\"Precision:\", precision)\n",
    "print(\"Recall:\", recall)\n",
    "print(\"F1 Score:\", f1)\n"
   ]
  },
  {
   "cell_type": "code",
   "execution_count": 23,
   "id": "f02286bb",
   "metadata": {},
   "outputs": [
    {
     "name": "stdout",
     "output_type": "stream",
     "text": [
      "1/1 [==============================] - 0s 91ms/step\n"
     ]
    },
    {
     "data": {
      "image/png": "[encoded data removed]",
      "text/plain": [
       "<Figure size 432x288 with 1 Axes>"
      ]
     },
     "metadata": {
      "needs_background": "light"
     },
     "output_type": "display_data"
    }
   ],
   "source": [
    "from tensorflow.keras.preprocessing import image\n",
    "import matplotlib.pyplot as plt\n",
    "\n",
    "# Assuming you have a path to the image you want to predict\n",
    "image_path = \"Test/M09_03.jpg\"\n",
    "\n",
    "# Load the image and resize it to match the input shape of the model\n",
    "img = image.load_img(image_path, target_size=(64, 64))\n",
    "\n",
    "# Convert the image to a numpy array\n",
    "img_array = image.img_to_array(img)\n",
    "\n",
    "# Expand the dimensions to match the expected input shape of the model\n",
    "img_array = np.expand_dims(img_array, axis=0)\n",
    "\n",
    "# Preprocess the image by rescaling its pixel values\n",
    "img_array = img_array / 255.0\n",
    "\n",
    "# Make the prediction\n",
    "prediction = model.predict(img_array)\n",
    "\n",
    "# Get the predicted class probability\n",
    "predicted_probability = prediction[0][0]\n",
    "\n",
    "# Define the class labels\n",
    "class_labels = [\"Monkey Pox\", \"Other\"]\n",
    "\n",
    "# Set a threshold to classify the image\n",
    "threshold = 0.5\n",
    "\n",
    "# Get the predicted class label\n",
    "if predicted_probability >= threshold:\n",
    "    predicted_class_label = class_labels[1]  # Monkey Pox\n",
    "else:\n",
    "    predicted_class_label = class_labels[0]  # Other\n",
    "\n",
    "# Show the input image\n",
    "plt.imshow(img)\n",
    "plt.axis('off')\n",
    "\n",
    "# Print the predicted class label\n",
    "plt.title(\"Predicted class: \" + predicted_class_label)\n",
    "plt.show()\n"
   ]
  },
  {
   "cell_type": "code",
   "execution_count": 48,
   "id": "108a3d56",
   "metadata": {},
   "outputs": [],
   "source": [
    "# Assuming your model is named 'model'\n",
    "model.save(\"model.h5\")\n"
   ]
  },
  {
   "cell_type": "code",
   "execution_count": 49,
   "id": "b44ca6c8",
   "metadata": {},
   "outputs": [],
   "source": [
    "from tensorflow.keras.models import load_model\n",
    "\n",
    "# Load the saved model\n",
    "model = load_model(\"model.h5\")\n"
   ]
  },
  {
   "cell_type": "code",
   "execution_count": null,
   "id": "195cee8f",
   "metadata": {},
   "outputs": [],
   "source": []
  }
 ],
 "metadata": {
  "kernelspec": {
   "display_name": "Python 3 (ipykernel)",
   "language": "python",
   "name": "python3"
  },
  "language_info": {
   "codemirror_mode": {
    "name": "ipython",
    "version": 3
   },
   "file_extension": ".py",
   "mimetype": "text/x-python",
   "name": "python",
   "nbconvert_exporter": "python",
   "pygments_lexer": "ipython3",
   "version": "3.9.12"
  }
 },
 "nbformat": 4,
 "nbformat_minor": 5
}
